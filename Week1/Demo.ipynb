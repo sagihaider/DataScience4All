{
  "nbformat": 4,
  "nbformat_minor": 5,
  "metadata": {
    "kernelspec": {
      "display_name": "Python 3",
      "language": "python",
      "name": "python3"
    },
    "language_info": {
      "codemirror_mode": {
        "name": "ipython",
        "version": 3
      },
      "file_extension": ".py",
      "mimetype": "text/x-python",
      "name": "python",
      "nbconvert_exporter": "python",
      "pygments_lexer": "ipython3",
      "version": "3.7.10"
    },
    "colab": {
      "name": "Demo.ipynb",
      "provenance": [],
      "include_colab_link": true
    }
  },
  "cells": [
    {
      "cell_type": "markdown",
      "metadata": {
        "id": "view-in-github",
        "colab_type": "text"
      },
      "source": [
        "<a href=\"https://colab.research.google.com/github/sagihaider/CE880/blob/main/Week1/Demo.ipynb\" target=\"_parent\"><img src=\"https://colab.research.google.com/assets/colab-badge.svg\" alt=\"Open In Colab\"/></a>"
      ]
    },
    {
      "cell_type": "markdown",
      "metadata": {
        "id": "48aef831"
      },
      "source": [
        "# CE880: An Approachable Introduction to Data Science\n",
        "### 2022-23\n",
        "### Prepared by: Haider Raza (h.raza@essex.ac.uk)"
      ],
      "id": "48aef831"
    },
    {
      "cell_type": "markdown",
      "metadata": {
        "id": "96878f36"
      },
      "source": [
        "This notebook will explain you all the things, which are required to complete the lab work and assignments. Please make sure you have completed all the steps as follows:\n",
        "\n",
        "1. Please create your Google account if you don't have. [Help for creating Google Account](https://support.google.com/accounts/answer/27441?hl=en)\n",
        "\n",
        "2. Please ckeck if you can download the lab work from Moodle.\n",
        "\n",
        "3. To work on Python, we will be using [Google Colab](https://colab.research.google.com/). To learn more about Google Colab, please [watch me](https://www.youtube.com/playlist?list=PLIzq8uevSgtdhgCzajHUUESPifdw5ol1N)\n",
        "\n",
        "4. To avoid losing your lab work, we will not save it on a USB or Computer drive. Instead, we will use [GitHub](https://github.com/). To read more about why we are using GitHub, please [read me](https://www.edureka.co/blog/how-to-use-github/). \n",
        "\n",
        "5. Now, let's create a GitHub profile. You can use your Google Account to create a GitHub profile. If you do so you can share the GitHub profile in your CV and it will also help showcase your work.  \n",
        "\n",
        "6. Once you have created your profile on GitHub. Now, it's high time to create your first GitHub Repository. [Read me](https://guides.github.com/activities/hello-world/) for more detials. Please make sure to name your repository \"**CE880**\" or \"**UoE-CE880**\" and make it **private** so other students can't see your work. Later, you can make the repository public after passing the module. \n",
        "\n",
        "7. Now please open exercise_1_1 in Colab"
      ],
      "id": "96878f36"
    },
    {
      "cell_type": "code",
      "metadata": {
        "id": "529ebd19"
      },
      "source": [],
      "id": "529ebd19",
      "execution_count": null,
      "outputs": []
    }
  ]
}